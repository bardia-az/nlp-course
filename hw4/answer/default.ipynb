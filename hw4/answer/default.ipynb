{
 "cells": [
  {
   "cell_type": "markdown",
   "metadata": {},
   "source": [
    "# prefixtune: default program"
   ]
  },
  {
   "cell_type": "code",
   "execution_count": 1,
   "metadata": {},
   "outputs": [
    {
     "name": "stderr",
     "output_type": "stream",
     "text": [
      "/Users/anoop/git-repos/teaching/nlp-class-leaderboard/scoring/prefixtune_data/venv/lib/python3.10/site-packages/tqdm/auto.py:21: TqdmWarning: IProgress not found. Please update jupyter and ipywidgets. See https://ipywidgets.readthedocs.io/en/stable/user_install.html\n",
      "  from .autonotebook import tqdm as notebook_tqdm\n"
     ]
    }
   ],
   "source": [
    "from default import *\n",
    "import os, sys"
   ]
  },
  {
   "cell_type": "markdown",
   "metadata": {},
   "source": [
    "## Run the default solution on small"
   ]
  },
  {
   "cell_type": "code",
   "execution_count": 4,
   "metadata": {},
   "outputs": [
    {
     "name": "stderr",
     "output_type": "stream",
     "text": [
      "10it [00:13,  1.35s/it]"
     ]
    },
    {
     "name": "stdout",
     "output_type": "stream",
     "text": [
      "0||  _______________________________________________    A new report from the US Department of Justice's Office of the Inspector General (OIG) has revealed that the Justice Department's Office of the Inspector General (OIG) has found that the Department of Justice has\n",
      "1||   The following is a list of the most popular and popular websites in the United States.    The following is a list of the most popular and popular websites in the United States.    The following is a list of the\n",
      "2||  __________   If you're looking for the first time in your life, you're looking for the first time in your life. If you're looking for the first time in your life, you're looking for the first time in your life\n",
      "3||  ___________   A new report from the U.S. Department of Homeland Security (DHS) in the wake of the 9/11 attacks on the U.S. and its allies in the Middle East has revealed that the U.\n",
      "4||  __________________________________________    I’ve been working on a new project for the past few months, and I’ve been working on a new project for the past few months, and I’ve been working on a new\n",
      "5||  _______________________________________________   In the past few months, I’ve been waiting for a new blog post to come out. In the past few months, I’ve been waiting for a new blog post to come out. In the\n",
      "6||  _______________________________________________    I have been working on a new project for the last few years, and I have been working on a new project for the last few years, and I have been working on a new project for the last few years\n",
      "7||  iced coffee is good for you.    The first thing you need to know is what type of coffee is available in the United States.   The first thing you need to know is what type of coffee is available in the United\n",
      "8||  ____________________________________________________________________   This is the first in a series of articles on the importance of the internet and the internet. This article is part of the series of articles on the importance of the internet. This article is part of the series of articles on\n",
      "9||  ___________    The first thing you need to know is that you are the first to know how to use the app on your Android device.  The first thing you need to know is that you are the first to know how to\n"
     ]
    },
    {
     "name": "stderr",
     "output_type": "stream",
     "text": [
      "\n"
     ]
    }
   ],
   "source": [
    "basemodel = 'distilgpt2'\n",
    "table_to_text = TableToText(\"peft\", basemodel=basemodel)\n",
    "model = AutoModelForCausalLM.from_pretrained(basemodel)\n",
    "decoder_output = table_to_text.decode(model, '../data/input/small.txt')\n",
    "print(\"\\n\".join(decoder_output))"
   ]
  },
  {
   "cell_type": "markdown",
   "metadata": {},
   "source": [
    "Ignore the warnings from the transformers library. They are expected to occur."
   ]
  },
  {
   "cell_type": "markdown",
   "metadata": {},
   "source": [
    "## Evaluate the default output"
   ]
  },
  {
   "cell_type": "markdown",
   "metadata": {},
   "source": [
    "See `bleu.py`"
   ]
  },
  {
   "cell_type": "markdown",
   "metadata": {},
   "source": [
    "## Documentation\n",
    "\n",
    "Write some beautiful documentation of your program here."
   ]
  },
  {
   "cell_type": "markdown",
   "metadata": {},
   "source": [
    "## Analysis\n",
    "\n",
    "Do some analysis of the results. What ideas did you try? What worked and what did not?"
   ]
  }
 ],
 "metadata": {
  "kernelspec": {
   "display_name": "Python 3 (ipykernel)",
   "language": "python",
   "name": "python3"
  },
  "language_info": {
   "codemirror_mode": {
    "name": "ipython",
    "version": 3
   },
   "file_extension": ".py",
   "mimetype": "text/x-python",
   "name": "python",
   "nbconvert_exporter": "python",
   "pygments_lexer": "ipython3",
   "version": "3.10.11"
  }
 },
 "nbformat": 4,
 "nbformat_minor": 2
}
