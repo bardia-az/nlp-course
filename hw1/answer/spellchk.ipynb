{
 "cells": [
  {
   "cell_type": "markdown",
   "metadata": {},
   "source": [
    "# spellchk: default program"
   ]
  },
  {
   "cell_type": "code",
   "execution_count": 1,
   "metadata": {},
   "outputs": [],
   "source": [
    "from default import *"
   ]
  },
  {
   "cell_type": "markdown",
   "metadata": {},
   "source": [
    "## Documentation\n",
    "\n",
    "Read `answer/default.py` starting with the `spellchk` function and see how it solves the task of spell correction using a pre-trained language model that can predict a replacement token for a masked token in the input.\n",
    "\n",
    "In your submission, write some beautiful documentation of your program here."
   ]
  },
  {
   "cell_type": "code",
   "execution_count": 2,
   "metadata": {},
   "outputs": [
    {
     "name": "stdout",
     "output_type": "stream",
     "text": [
      "4\tit will put your mind into non-stop learning.\n",
      "3\t`` Sad '' s not the right word , of course .\n",
      "5,14\tJust before Myra left -- cathy was saying good-by to Cathy , and she did realize I was near '' .\n"
     ]
    }
   ],
   "source": [
    "from io import StringIO\n",
    "with StringIO(\"4\\tit will put your maind into non-stop learning.\\n \\\n",
    "              3\\t`` Sad '' wss not the right word , of course .\\n \\\n",
    "              5,14\tJust before Myra left -- Sue was saying good-by to Cathy , and she didm't realize I was near '' .\") as f:\n",
    "    for (locations, spellchk_sent) in spellchk(f):\n",
    "        print(\"{locs}\\t{sent}\".format(\n",
    "            locs=\",\".join([str(i) for i in locations]),\n",
    "            sent=\" \".join(spellchk_sent)\n",
    "        ))"
   ]
  },
  {
   "cell_type": "code",
   "execution_count": 3,
   "metadata": {},
   "outputs": [],
   "source": [
    "import numpy as np\n",
    "\n",
    "def select_correction(typo, predict):\n",
    "    # return the most likely prediction for the mask token\n",
    "    dist_score = [len(set(typo.lower()).intersection(set(predict[i]['token_str'])))/len(typo) for i in range(len(predict))]\n",
    "    best_ind = np.argmax(dist_score)\n",
    "    return predict[best_ind]['token_str']\n",
    "\n",
    "def spellchk(fh):\n",
    "    for (locations, sent) in get_typo_locations(fh):\n",
    "        spellchk_sent = sent\n",
    "        for i in locations:\n",
    "            # predict top_k replacements only for the typo word at index i\n",
    "            predict = fill_mask(\n",
    "                \" \".join([ sent[j] if j != i else mask for j in range(len(sent)) ]), \n",
    "                top_k=20\n",
    "            )\n",
    "            logging.info(predict)\n",
    "            spellchk_sent[i] = select_correction(sent[i], predict)\n",
    "        yield(locations, spellchk_sent)"
   ]
  },
  {
   "cell_type": "code",
   "execution_count": 4,
   "metadata": {},
   "outputs": [
    {
     "name": "stdout",
     "output_type": "stream",
     "text": [
      "4\tit will put your mind into non-stop learning.\n",
      "3\t`` Sad '' was not the right word , of course .\n",
      "5,14\tJust before Myra left -- susie was saying good-by to Cathy , and she immediately realize I was near '' .\n"
     ]
    }
   ],
   "source": [
    "with StringIO(\"4\\tit will put your maind into non-stop learning.\\n \\\n",
    "              3\\t`` Sad '' wss not the right word , of course .\\n \\\n",
    "              5,14\tJust before Myra left -- Sue was saying good-by to Cathy , and she didm't realize I was near '' .\") as f:\n",
    "    for (locations, spellchk_sent) in spellchk(f):\n",
    "        print(\"{locs}\\t{sent}\".format(\n",
    "            locs=\",\".join([str(i) for i in locations]),\n",
    "            sent=\" \".join(spellchk_sent)\n",
    "        ))"
   ]
  },
  {
   "cell_type": "code",
   "execution_count": 5,
   "metadata": {},
   "outputs": [],
   "source": [
    "import Levenshtein\n",
    "\n",
    "def select_correction(typo, predict):\n",
    "    # return the most likely prediction for the mask token\n",
    "    edit_dist = [Levenshtein.distance(typo.lower(), predict[i]['token_str']) for i in range(len(predict))]\n",
    "    best_ind = np.argmin(edit_dist)\n",
    "    return predict[best_ind]['token_str']\n",
    "\n",
    "def spellchk(fh):\n",
    "    for (locations, sent) in get_typo_locations(fh):\n",
    "        spellchk_sent = sent\n",
    "        for i in locations:\n",
    "            # predict top_k replacements only for the typo word at index i\n",
    "            predict = fill_mask(\n",
    "                \" \".join([ sent[j] if j != i else mask for j in range(len(sent)) ]), \n",
    "                top_k=20\n",
    "            )\n",
    "            logging.info(predict)\n",
    "            spellchk_sent[i] = select_correction(sent[i], predict)\n",
    "        yield(locations, spellchk_sent)"
   ]
  },
  {
   "cell_type": "code",
   "execution_count": 6,
   "metadata": {},
   "outputs": [
    {
     "name": "stdout",
     "output_type": "stream",
     "text": [
      "4\tit will put your mind into non-stop learning.\n",
      "3\t`` Sad '' was not the right word , of course .\n",
      "5,14\tJust before Myra left -- she was saying good-by to Cathy , and she did realize I was near '' .\n"
     ]
    }
   ],
   "source": [
    "with StringIO(\"4\\tit will put your maind into non-stop learning.\\n \\\n",
    "              3\\t`` Sad '' wss not the right word , of course .\\n \\\n",
    "              5,14\tJust before Myra left -- Sue was saying good-by to Cathy , and she didm't realize I was near '' .\") as f:\n",
    "    for (locations, spellchk_sent) in spellchk(f):\n",
    "        print(\"{locs}\\t{sent}\".format(\n",
    "            locs=\",\".join([str(i) for i in locations]),\n",
    "            sent=\" \".join(spellchk_sent)\n",
    "        ))"
   ]
  },
  {
   "cell_type": "code",
   "execution_count": 9,
   "metadata": {},
   "outputs": [],
   "source": [
    "def select_correction(typo, predict):\n",
    "    # return the most likely prediction for the mask token\n",
    "    LM_score = np.array([predict[i]['score'] for i in range(len(predict))])\n",
    "    edit_dist = np.array([Levenshtein.distance(typo.lower(), predict[i]['token_str']) for i in range(len(predict))])\n",
    "    edit_score = (edit_dist.max() - edit_dist) / edit_dist.max()\n",
    "    w = 0.95\n",
    "    score_tot = w * edit_score + (1-w) * LM_score\n",
    "    best_ind = np.argmax(score_tot)\n",
    "    return predict[best_ind]['token_str'].capitalize() if typo[0].isupper() else predict[best_ind]['token_str']\n",
    "def spellchk(fh):\n",
    "    for (locations, sent) in get_typo_locations(fh):\n",
    "        spellchk_sent = sent\n",
    "        for i in locations:\n",
    "            # predict top_k replacements only for the typo word at index i\n",
    "            predict = fill_mask(\n",
    "                \" \".join([ sent[j] if j != i else mask for j in range(len(sent)) ]), \n",
    "                top_k=20\n",
    "            )\n",
    "            logging.info(predict)\n",
    "            spellchk_sent[i] = select_correction(sent[i], predict)\n",
    "        yield(locations, spellchk_sent)"
   ]
  },
  {
   "cell_type": "code",
   "execution_count": 11,
   "metadata": {},
   "outputs": [
    {
     "name": "stdout",
     "output_type": "stream",
     "text": [
      "4\tit will put your mind into non-stop learning.\n",
      "3\t`` Sad '' was not the right word , of course .\n",
      "5,14\tJust before Myra left -- She was saying good-by to Cathy , and she did realize I was near '' .\n",
      "0\tNormally the farm should be on an all-weather road .\n"
     ]
    }
   ],
   "source": [
    "with StringIO(\"4\\tit will put your maind into non-stop learning.\\n \\\n",
    "              3\\t`` Sad '' wss not the right word , of course .\\n \\\n",
    "              5,14\tJust before Myra left -- Sue was saying good-by to Cathy , and she didm't realize I was near '' .\\n \\\n",
    "              0\tOOviously the farm should be on an all-weather road .\") as f:\n",
    "    for (locations, spellchk_sent) in spellchk(f):\n",
    "        print(\"{locs}\\t{sent}\".format(\n",
    "            locs=\",\".join([str(i) for i in locations]),\n",
    "            sent=\" \".join(spellchk_sent)\n",
    "        ))"
   ]
  },
  {
   "cell_type": "code",
   "execution_count": 14,
   "metadata": {},
   "outputs": [],
   "source": [
    "def select_correction(typo, predict):\n",
    "    # return the most likely prediction for the mask token\n",
    "    LM_score = np.array([predict[i]['score'] for i in range(len(predict))])\n",
    "    edit_dist = np.array([Levenshtein.distance(typo.lower(), predict[i]['token_str']) for i in range(len(predict))])\n",
    "    edit_score = (edit_dist.max() - edit_dist) / edit_dist.max()\n",
    "    w = 0.95\n",
    "    score_tot = w * edit_score + (1-w) * LM_score\n",
    "    best_ind = np.argmax(score_tot)\n",
    "    return predict[best_ind]['token_str'].capitalize() if typo[0].isupper() else predict[best_ind]['token_str']\n",
    "def spellchk(fh):\n",
    "    for (locations, sent) in get_typo_locations(fh):\n",
    "        spellchk_sent = sent\n",
    "        for i in locations:\n",
    "            # predict top_k replacements only for the typo word at index i\n",
    "            predict = fill_mask(\n",
    "                \" \".join([ sent[j] if j != i else mask for j in range(len(sent)) ]), \n",
    "                top_k=1000\n",
    "            )\n",
    "            logging.info(predict)\n",
    "            spellchk_sent[i] = select_correction(sent[i], predict)\n",
    "        yield(locations, spellchk_sent)"
   ]
  },
  {
   "cell_type": "code",
   "execution_count": 15,
   "metadata": {},
   "outputs": [
    {
     "name": "stdout",
     "output_type": "stream",
     "text": [
      "4\tit will put your mind into non-stop learning.\n",
      "3\t`` Sad '' was not the right word , of course .\n",
      "5,14\tJust before Myra left -- Sue was saying good-by to Cathy , and she did realize I was near '' .\n",
      "0\tObviously the farm should be on an all-weather road .\n"
     ]
    }
   ],
   "source": [
    "with StringIO(\"4\\tit will put your maind into non-stop learning.\\n \\\n",
    "              3\\t`` Sad '' wss not the right word , of course .\\n \\\n",
    "              5,14\tJust before Myra left -- Sue was saying good-by to Cathy , and she didm't realize I was near '' .\\n \\\n",
    "              0\tOOviously the farm should be on an all-weather road .\") as f:\n",
    "    for (locations, spellchk_sent) in spellchk(f):\n",
    "        print(\"{locs}\\t{sent}\".format(\n",
    "            locs=\",\".join([str(i) for i in locations]),\n",
    "            sent=\" \".join(spellchk_sent)\n",
    "        ))"
   ]
  },
  {
   "cell_type": "markdown",
   "metadata": {},
   "source": [
    "## Analysis\n",
    "\n",
    "Do some analysis of the results. What ideas did you try? What worked and what did not?"
   ]
  },
  {
   "cell_type": "markdown",
   "metadata": {},
   "source": [
    "## Group work\n",
    "\n",
    "* username did this.\n",
    "* username did this.\n"
   ]
  }
 ],
 "metadata": {
  "kernelspec": {
   "display_name": "Python 3 (ipykernel)",
   "language": "python",
   "name": "python3"
  },
  "language_info": {
   "codemirror_mode": {
    "name": "ipython",
    "version": 3
   },
   "file_extension": ".py",
   "mimetype": "text/x-python",
   "name": "python",
   "nbconvert_exporter": "python",
   "pygments_lexer": "ipython3",
   "version": "3.11.5"
  }
 },
 "nbformat": 4,
 "nbformat_minor": 2
}
